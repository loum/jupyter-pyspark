{
 "cells": [
  {
   "cell_type": "markdown",
   "id": "d9bdd2b1-46ec-440b-aa58-13cd79e8c874",
   "metadata": {},
   "source": [
    "# Custom `%%sql` cell magic\n",
    "\n",
    "Use the `%%sql` cell magic to streamline [Spark SQL](https://spark.apache.org/docs/latest/sql-ref.html) interactions with structured data.\n",
    "\n",
    "Here is an example that details how to use PySpark DataFrames to read, write, transform, and analyze data using SQL."
   ]
  },
  {
   "cell_type": "markdown",
   "id": "ee304511-458e-4448-b617-eed2b9b2e23d",
   "metadata": {},
   "source": [
    "## Create a sample PySpark DataFrame"
   ]
  },
  {
   "cell_type": "code",
   "execution_count": 1,
   "id": "1e2bc407-5f26-43e5-8103-d54712313e0c",
   "metadata": {},
   "outputs": [],
   "source": [
    "from pyspark.sql import DataFrame, SparkSession\n",
    "from pyspark.sql.types import StructType\n",
    "\n",
    "\n",
    "DATA_SCHEMA = {\n",
    "    \"type\": \"struct\",\n",
    "    \"fields\": [\n",
    "        {\"name\": \"dummy_col01\", \"type\": \"integer\", \"nullable\": True, \"metadata\": {}},\n",
    "        {\"name\": \"dummy_col02\", \"type\": \"string\", \"nullable\": True, \"metadata\": {}},\n",
    "    ],\n",
    "}\n",
    "DATA_STRUCT = StructType().fromJson(DATA_SCHEMA)\n",
    "\n",
    "RAW_DATA = [\n",
    "    (1, \"dummy_col02_val0000000001\"),\n",
    "    (1, \"dummy_col02_val0000000002\"),\n",
    "    (2, \"dummy_col02_val0000000002\"),\n",
    "    (2, \"dummy_col02_val0000000003\"),\n",
    "]\n",
    "\n",
    "df: DataFrame = spark.createDataFrame(data=RAW_DATA, schema=DATA_STRUCT)"
   ]
  },
  {
   "cell_type": "markdown",
   "id": "3599857b-263a-4096-ad09-09fe1d5c0602",
   "metadata": {},
   "source": [
    "## Create a PySpark DataFrame [temporary view](https://spark.apache.org/docs/latest/api/python/reference/pyspark.sql/api/pyspark.sql.DataFrame.createOrReplaceTempView.html#pyspark.sql.DataFrame.createOrReplaceTempView)"
   ]
  },
  {
   "cell_type": "code",
   "execution_count": 2,
   "id": "51604f06-17ca-4308-9830-7ddfbfe5942d",
   "metadata": {},
   "outputs": [],
   "source": [
    "df.createOrReplaceTempView(\"dummy\")"
   ]
  },
  {
   "cell_type": "code",
   "execution_count": 3,
   "id": "181eaddb-5433-478f-9be9-9d8dee2b1de7",
   "metadata": {},
   "outputs": [
    {
     "name": "stderr",
     "output_type": "stream",
     "text": [
      "24/03/31 02:08:46 WARN HiveConf: HiveConf of name hive.stats.jdbc.timeout does not exist\n",
      "24/03/31 02:08:46 WARN HiveConf: HiveConf of name hive.stats.retries.wait does not exist\n",
      "24/03/31 02:08:49 WARN ObjectStore: Version information not found in metastore. hive.metastore.schema.verification is not enabled so recording the schema version 2.3.0\n",
      "24/03/31 02:08:49 WARN ObjectStore: setMetaStoreSchemaVersion called but recording version is disabled: version = 2.3.0, comment = Set by MetaStore UNKNOWN@127.0.0.1\n",
      "24/03/31 02:08:49 WARN ObjectStore: Failed to get database default, returning NoSuchObjectException\n",
      "24/03/31 02:08:49 WARN ObjectStore: Failed to get database global_temp, returning NoSuchObjectException\n"
     ]
    },
    {
     "data": {
      "text/html": [
       "<table border='1'>\n",
       "<tr><th>namespace</th><th>tableName</th><th>isTemporary</th></tr>\n",
       "<tr><td></td><td>dummy</td><td>false</td></tr>\n",
       "</table>\n"
      ],
      "text/plain": [
       "+---------+---------+-----------+\n",
       "|namespace|tableName|isTemporary|\n",
       "+---------+---------+-----------+\n",
       "|         |    dummy|      false|\n",
       "+---------+---------+-----------+"
      ]
     },
     "execution_count": 3,
     "metadata": {},
     "output_type": "execute_result"
    }
   ],
   "source": [
    "%%sql\n",
    "\n",
    "SHOW TABLES"
   ]
  },
  {
   "cell_type": "markdown",
   "id": "27144519-acbf-47b1-a893-5116f1cbcdee",
   "metadata": {},
   "source": [
    "## `%%sql` cell magic interactions"
   ]
  },
  {
   "cell_type": "markdown",
   "id": "1e828d17-a9d4-49b7-af29-5328eefce108",
   "metadata": {},
   "source": [
    "### [SQL data retrieval](https://spark.apache.org/docs/latest/sql-ref-syntax.html#data-retrieval-statements)\n",
    "\n",
    "`SELECT` statements can be used directly against the view:"
   ]
  },
  {
   "cell_type": "code",
   "execution_count": 4,
   "id": "0ab11997-ce22-4490-8cf7-76889dd38269",
   "metadata": {},
   "outputs": [
    {
     "name": "stderr",
     "output_type": "stream",
     "text": [
      "                                                                                \r"
     ]
    },
    {
     "data": {
      "text/html": [
       "<table border='1'>\n",
       "<tr><th>dummy_col01</th><th>dummy_col02</th></tr>\n",
       "<tr><td>1</td><td>dummy_col02_val00...</td></tr>\n",
       "<tr><td>1</td><td>dummy_col02_val00...</td></tr>\n",
       "<tr><td>2</td><td>dummy_col02_val00...</td></tr>\n",
       "<tr><td>2</td><td>dummy_col02_val00...</td></tr>\n",
       "</table>\n"
      ],
      "text/plain": [
       "+-----------+--------------------+\n",
       "|dummy_col01|         dummy_col02|\n",
       "+-----------+--------------------+\n",
       "|          1|dummy_col02_val00...|\n",
       "|          1|dummy_col02_val00...|\n",
       "|          2|dummy_col02_val00...|\n",
       "|          2|dummy_col02_val00...|\n",
       "+-----------+--------------------+"
      ]
     },
     "execution_count": 4,
     "metadata": {},
     "output_type": "execute_result"
    }
   ],
   "source": [
    "%%sql\n",
    "\n",
    "SELECT * FROM dummy"
   ]
  },
  {
   "cell_type": "markdown",
   "id": "323e6c37-75cb-4022-acb5-3b6717f3b1c8",
   "metadata": {},
   "source": [
    "Prettier, HTML-based output can be used with the `%%sql_display` magic:"
   ]
  },
  {
   "cell_type": "code",
   "execution_count": 5,
   "id": "01bd2b8e-b01f-41e3-9b74-649a81602500",
   "metadata": {},
   "outputs": [
    {
     "data": {
      "text/html": [
       "<div>\n",
       "<style scoped>\n",
       "    .dataframe tbody tr th:only-of-type {\n",
       "        vertical-align: middle;\n",
       "    }\n",
       "\n",
       "    .dataframe tbody tr th {\n",
       "        vertical-align: top;\n",
       "    }\n",
       "\n",
       "    .dataframe thead th {\n",
       "        text-align: right;\n",
       "    }\n",
       "</style>\n",
       "<table border=\"1\" class=\"dataframe\">\n",
       "  <thead>\n",
       "    <tr style=\"text-align: right;\">\n",
       "      <th></th>\n",
       "      <th>dummy_col01</th>\n",
       "      <th>dummy_col02</th>\n",
       "    </tr>\n",
       "  </thead>\n",
       "  <tbody>\n",
       "    <tr>\n",
       "      <th>0</th>\n",
       "      <td>1</td>\n",
       "      <td>dummy_col02_val0000000001</td>\n",
       "    </tr>\n",
       "    <tr>\n",
       "      <th>1</th>\n",
       "      <td>1</td>\n",
       "      <td>dummy_col02_val0000000002</td>\n",
       "    </tr>\n",
       "    <tr>\n",
       "      <th>2</th>\n",
       "      <td>2</td>\n",
       "      <td>dummy_col02_val0000000002</td>\n",
       "    </tr>\n",
       "    <tr>\n",
       "      <th>3</th>\n",
       "      <td>2</td>\n",
       "      <td>dummy_col02_val0000000003</td>\n",
       "    </tr>\n",
       "  </tbody>\n",
       "</table>\n",
       "</div>"
      ],
      "text/plain": [
       "   dummy_col01                dummy_col02\n",
       "0            1  dummy_col02_val0000000001\n",
       "1            1  dummy_col02_val0000000002\n",
       "2            2  dummy_col02_val0000000002\n",
       "3            2  dummy_col02_val0000000003"
      ]
     },
     "execution_count": 5,
     "metadata": {},
     "output_type": "execute_result"
    }
   ],
   "source": [
    "%%sql_display\n",
    "\n",
    "SELECT * FROM dummy"
   ]
  },
  {
   "cell_type": "code",
   "execution_count": 6,
   "id": "f918d2b4-d958-44d8-8aab-56464f3e7bbe",
   "metadata": {},
   "outputs": [
    {
     "data": {
      "text/html": [
       "<div>\n",
       "<style scoped>\n",
       "    .dataframe tbody tr th:only-of-type {\n",
       "        vertical-align: middle;\n",
       "    }\n",
       "\n",
       "    .dataframe tbody tr th {\n",
       "        vertical-align: top;\n",
       "    }\n",
       "\n",
       "    .dataframe thead th {\n",
       "        text-align: right;\n",
       "    }\n",
       "</style>\n",
       "<table border=\"1\" class=\"dataframe\">\n",
       "  <thead>\n",
       "    <tr style=\"text-align: right;\">\n",
       "      <th></th>\n",
       "      <th>dummy_col01</th>\n",
       "      <th>dummy_col02</th>\n",
       "    </tr>\n",
       "  </thead>\n",
       "  <tbody>\n",
       "    <tr>\n",
       "      <th>0</th>\n",
       "      <td>1</td>\n",
       "      <td>dummy_col02_val0000000001</td>\n",
       "    </tr>\n",
       "    <tr>\n",
       "      <th>1</th>\n",
       "      <td>1</td>\n",
       "      <td>dummy_col02_val0000000002</td>\n",
       "    </tr>\n",
       "    <tr>\n",
       "      <th>2</th>\n",
       "      <td>2</td>\n",
       "      <td>dummy_col02_val0000000002</td>\n",
       "    </tr>\n",
       "    <tr>\n",
       "      <th>3</th>\n",
       "      <td>2</td>\n",
       "      <td>dummy_col02_val0000000003</td>\n",
       "    </tr>\n",
       "  </tbody>\n",
       "</table>\n",
       "</div>"
      ],
      "text/plain": [
       "   dummy_col01                dummy_col02\n",
       "0            1  dummy_col02_val0000000001\n",
       "1            1  dummy_col02_val0000000002\n",
       "2            2  dummy_col02_val0000000002\n",
       "3            2  dummy_col02_val0000000003"
      ]
     },
     "execution_count": 6,
     "metadata": {},
     "output_type": "execute_result"
    }
   ],
   "source": [
    "rows = %sql SELECT * FROM dummy\n",
    "\n",
    "rows.toPandas() if rows.count() > 0 else display(\"Table is empty\")"
   ]
  },
  {
   "cell_type": "markdown",
   "id": "2eadf6de-4e1e-4119-b0ef-aeb7d479c9d5",
   "metadata": {},
   "source": [
    "### [DML statements](https://spark.apache.org/docs/latest/sql-ref-syntax.html#dml-statements)"
   ]
  },
  {
   "cell_type": "markdown",
   "id": "eaa6147b-5867-468f-aa52-8a5a6f0b200d",
   "metadata": {},
   "source": [
    "Use DML statements to add, change or delete data.\n",
    "\n",
    "First, create a table from the existing view. Here we are using PySpark with [Delta Lake](https://docs.delta.io/latest/quick-start.html#set-up-apache-spark-with-delta-lake):"
   ]
  },
  {
   "cell_type": "code",
   "execution_count": 7,
   "id": "feb18e15-bf35-4f6d-a935-af8e5697109a",
   "metadata": {},
   "outputs": [
    {
     "data": {
      "text/html": [
       "<table border='1'>\n",
       "<tr><th></th></tr>\n",
       "</table>\n"
      ],
      "text/plain": [
       "++\n",
       "||\n",
       "++\n",
       "++"
      ]
     },
     "execution_count": 7,
     "metadata": {},
     "output_type": "execute_result"
    }
   ],
   "source": [
    "%%sql\n",
    "\n",
    "DROP TABLE IF EXISTS tester"
   ]
  },
  {
   "cell_type": "code",
   "execution_count": 8,
   "id": "83a22066-721a-45e4-a696-671a6e603131",
   "metadata": {},
   "outputs": [
    {
     "name": "stderr",
     "output_type": "stream",
     "text": [
      "24/03/31 02:08:59 WARN SparkStringUtils: Truncated the string representation of a plan since it was too large. This behavior can be adjusted by setting 'spark.sql.debug.maxToStringFields'.\n",
      "24/03/31 02:09:02 WARN HiveExternalCatalog: Couldn't find corresponding Hive SerDe for data source provider delta. Persisting data source table `spark_catalog`.`default`.`tester` into Hive metastore in Spark SQL specific format, which is NOT compatible with Hive.\n",
      "24/03/31 02:09:02 WARN SessionState: METASTORE_FILTER_HOOK will be ignored, since hive.security.authorization.manager is set to instance of HiveAuthorizerFactory.\n",
      "24/03/31 02:09:02 WARN HiveConf: HiveConf of name hive.internal.ss.authz.settings.applied.marker does not exist\n",
      "24/03/31 02:09:02 WARN HiveConf: HiveConf of name hive.stats.jdbc.timeout does not exist\n",
      "24/03/31 02:09:02 WARN HiveConf: HiveConf of name hive.stats.retries.wait does not exist\n"
     ]
    },
    {
     "data": {
      "text/html": [
       "<table border='1'>\n",
       "<tr><th></th></tr>\n",
       "</table>\n"
      ],
      "text/plain": [
       "++\n",
       "||\n",
       "++\n",
       "++"
      ]
     },
     "execution_count": 8,
     "metadata": {},
     "output_type": "execute_result"
    }
   ],
   "source": [
    "%%sql\n",
    "\n",
    "CREATE TABLE tester USING delta AS SELECT * FROM dummy"
   ]
  },
  {
   "cell_type": "code",
   "execution_count": 9,
   "id": "5f834523-79cd-43d6-9404-6a627da1f5f6",
   "metadata": {},
   "outputs": [
    {
     "data": {
      "text/html": [
       "<div>\n",
       "<style scoped>\n",
       "    .dataframe tbody tr th:only-of-type {\n",
       "        vertical-align: middle;\n",
       "    }\n",
       "\n",
       "    .dataframe tbody tr th {\n",
       "        vertical-align: top;\n",
       "    }\n",
       "\n",
       "    .dataframe thead th {\n",
       "        text-align: right;\n",
       "    }\n",
       "</style>\n",
       "<table border=\"1\" class=\"dataframe\">\n",
       "  <thead>\n",
       "    <tr style=\"text-align: right;\">\n",
       "      <th></th>\n",
       "      <th>namespace</th>\n",
       "      <th>tableName</th>\n",
       "      <th>isTemporary</th>\n",
       "    </tr>\n",
       "  </thead>\n",
       "  <tbody>\n",
       "    <tr>\n",
       "      <th>0</th>\n",
       "      <td>default</td>\n",
       "      <td>tester</td>\n",
       "      <td>False</td>\n",
       "    </tr>\n",
       "    <tr>\n",
       "      <th>1</th>\n",
       "      <td></td>\n",
       "      <td>dummy</td>\n",
       "      <td>False</td>\n",
       "    </tr>\n",
       "  </tbody>\n",
       "</table>\n",
       "</div>"
      ],
      "text/plain": [
       "  namespace tableName  isTemporary\n",
       "0   default    tester        False\n",
       "1               dummy        False"
      ]
     },
     "execution_count": 9,
     "metadata": {},
     "output_type": "execute_result"
    }
   ],
   "source": [
    "%%sql_display\n",
    "\n",
    "SHOW TABLES"
   ]
  },
  {
   "cell_type": "markdown",
   "id": "98574a8b-f522-481f-936a-192203c4de16",
   "metadata": {},
   "source": [
    "#### Insert\n",
    "\n",
    "Add a new row to the `tester` table:"
   ]
  },
  {
   "cell_type": "code",
   "execution_count": 10,
   "id": "6947ef17-982f-4007-b81f-4a63cfbe7d85",
   "metadata": {},
   "outputs": [
    {
     "data": {
      "text/html": [
       "<table border='1'>\n",
       "<tr><th></th></tr>\n",
       "</table>\n"
      ],
      "text/plain": [
       "++\n",
       "||\n",
       "++\n",
       "++"
      ]
     },
     "execution_count": 10,
     "metadata": {},
     "output_type": "execute_result"
    }
   ],
   "source": [
    "%%sql\n",
    "\n",
    "INSERT INTO tester VALUES\n",
    "    (3, \"dummy_col02_val0000000003\")"
   ]
  },
  {
   "cell_type": "code",
   "execution_count": 11,
   "id": "bbe65875-9822-40af-9752-936a8e288169",
   "metadata": {},
   "outputs": [
    {
     "data": {
      "text/html": [
       "<div>\n",
       "<style scoped>\n",
       "    .dataframe tbody tr th:only-of-type {\n",
       "        vertical-align: middle;\n",
       "    }\n",
       "\n",
       "    .dataframe tbody tr th {\n",
       "        vertical-align: top;\n",
       "    }\n",
       "\n",
       "    .dataframe thead th {\n",
       "        text-align: right;\n",
       "    }\n",
       "</style>\n",
       "<table border=\"1\" class=\"dataframe\">\n",
       "  <thead>\n",
       "    <tr style=\"text-align: right;\">\n",
       "      <th></th>\n",
       "      <th>dummy_col01</th>\n",
       "      <th>dummy_col02</th>\n",
       "    </tr>\n",
       "  </thead>\n",
       "  <tbody>\n",
       "    <tr>\n",
       "      <th>0</th>\n",
       "      <td>1</td>\n",
       "      <td>dummy_col02_val0000000001</td>\n",
       "    </tr>\n",
       "    <tr>\n",
       "      <th>1</th>\n",
       "      <td>1</td>\n",
       "      <td>dummy_col02_val0000000002</td>\n",
       "    </tr>\n",
       "    <tr>\n",
       "      <th>2</th>\n",
       "      <td>2</td>\n",
       "      <td>dummy_col02_val0000000003</td>\n",
       "    </tr>\n",
       "    <tr>\n",
       "      <th>3</th>\n",
       "      <td>2</td>\n",
       "      <td>dummy_col02_val0000000002</td>\n",
       "    </tr>\n",
       "    <tr>\n",
       "      <th>4</th>\n",
       "      <td>3</td>\n",
       "      <td>dummy_col02_val0000000003</td>\n",
       "    </tr>\n",
       "  </tbody>\n",
       "</table>\n",
       "</div>"
      ],
      "text/plain": [
       "   dummy_col01                dummy_col02\n",
       "0            1  dummy_col02_val0000000001\n",
       "1            1  dummy_col02_val0000000002\n",
       "2            2  dummy_col02_val0000000003\n",
       "3            2  dummy_col02_val0000000002\n",
       "4            3  dummy_col02_val0000000003"
      ]
     },
     "execution_count": 11,
     "metadata": {},
     "output_type": "execute_result"
    }
   ],
   "source": [
    "%%sql_display\n",
    "\n",
    "SELECT * FROM tester ORDER BY dummy_col01"
   ]
  },
  {
   "cell_type": "markdown",
   "id": "c76d94cf-f9ed-48c6-a679-18bffa237a56",
   "metadata": {},
   "source": [
    "#### Update\n",
    "\n",
    "Update existing row in the `tester` table:"
   ]
  },
  {
   "cell_type": "code",
   "execution_count": 12,
   "id": "52fdafa7-5e58-4025-ba84-bf210f718883",
   "metadata": {},
   "outputs": [
    {
     "data": {
      "text/html": [
       "<table border='1'>\n",
       "<tr><th>num_affected_rows</th></tr>\n",
       "<tr><td>1</td></tr>\n",
       "</table>\n"
      ],
      "text/plain": [
       "+-----------------+\n",
       "|num_affected_rows|\n",
       "+-----------------+\n",
       "|                1|\n",
       "+-----------------+"
      ]
     },
     "execution_count": 12,
     "metadata": {},
     "output_type": "execute_result"
    }
   ],
   "source": [
    "%%sql\n",
    "\n",
    "UPDATE tester SET dummy_col02 = 'dummy_col02_val0000000004' WHERE dummy_col01 = 3"
   ]
  },
  {
   "cell_type": "code",
   "execution_count": 13,
   "id": "7667b577-fb2d-4b95-a144-ceb2a75733ef",
   "metadata": {},
   "outputs": [
    {
     "data": {
      "text/html": [
       "<div>\n",
       "<style scoped>\n",
       "    .dataframe tbody tr th:only-of-type {\n",
       "        vertical-align: middle;\n",
       "    }\n",
       "\n",
       "    .dataframe tbody tr th {\n",
       "        vertical-align: top;\n",
       "    }\n",
       "\n",
       "    .dataframe thead th {\n",
       "        text-align: right;\n",
       "    }\n",
       "</style>\n",
       "<table border=\"1\" class=\"dataframe\">\n",
       "  <thead>\n",
       "    <tr style=\"text-align: right;\">\n",
       "      <th></th>\n",
       "      <th>dummy_col01</th>\n",
       "      <th>dummy_col02</th>\n",
       "    </tr>\n",
       "  </thead>\n",
       "  <tbody>\n",
       "    <tr>\n",
       "      <th>0</th>\n",
       "      <td>1</td>\n",
       "      <td>dummy_col02_val0000000001</td>\n",
       "    </tr>\n",
       "    <tr>\n",
       "      <th>1</th>\n",
       "      <td>1</td>\n",
       "      <td>dummy_col02_val0000000002</td>\n",
       "    </tr>\n",
       "    <tr>\n",
       "      <th>2</th>\n",
       "      <td>2</td>\n",
       "      <td>dummy_col02_val0000000003</td>\n",
       "    </tr>\n",
       "    <tr>\n",
       "      <th>3</th>\n",
       "      <td>2</td>\n",
       "      <td>dummy_col02_val0000000002</td>\n",
       "    </tr>\n",
       "    <tr>\n",
       "      <th>4</th>\n",
       "      <td>3</td>\n",
       "      <td>dummy_col02_val0000000004</td>\n",
       "    </tr>\n",
       "  </tbody>\n",
       "</table>\n",
       "</div>"
      ],
      "text/plain": [
       "   dummy_col01                dummy_col02\n",
       "0            1  dummy_col02_val0000000001\n",
       "1            1  dummy_col02_val0000000002\n",
       "2            2  dummy_col02_val0000000003\n",
       "3            2  dummy_col02_val0000000002\n",
       "4            3  dummy_col02_val0000000004"
      ]
     },
     "execution_count": 13,
     "metadata": {},
     "output_type": "execute_result"
    }
   ],
   "source": [
    "%%sql_display\n",
    "\n",
    "SELECT * FROM tester ORDER BY dummy_col01"
   ]
  },
  {
   "cell_type": "markdown",
   "id": "79e07876-27bb-4f2e-a751-8830696ba76a",
   "metadata": {},
   "source": [
    "#### Delete\n",
    "\n",
    "Delete the new row:"
   ]
  },
  {
   "cell_type": "code",
   "execution_count": 14,
   "id": "82dbb6aa-25c3-49ba-9a29-64783b1705fd",
   "metadata": {},
   "outputs": [
    {
     "data": {
      "text/html": [
       "<table border='1'>\n",
       "<tr><th>num_affected_rows</th></tr>\n",
       "<tr><td>1</td></tr>\n",
       "</table>\n"
      ],
      "text/plain": [
       "+-----------------+\n",
       "|num_affected_rows|\n",
       "+-----------------+\n",
       "|                1|\n",
       "+-----------------+"
      ]
     },
     "execution_count": 14,
     "metadata": {},
     "output_type": "execute_result"
    }
   ],
   "source": [
    "%%sql\n",
    "\n",
    "DELETE FROM tester WHERE dummy_col01 = 3"
   ]
  },
  {
   "cell_type": "code",
   "execution_count": 15,
   "id": "ff2a41ad-4547-4f7b-99b8-dba9461f5642",
   "metadata": {},
   "outputs": [
    {
     "data": {
      "text/html": [
       "<div>\n",
       "<style scoped>\n",
       "    .dataframe tbody tr th:only-of-type {\n",
       "        vertical-align: middle;\n",
       "    }\n",
       "\n",
       "    .dataframe tbody tr th {\n",
       "        vertical-align: top;\n",
       "    }\n",
       "\n",
       "    .dataframe thead th {\n",
       "        text-align: right;\n",
       "    }\n",
       "</style>\n",
       "<table border=\"1\" class=\"dataframe\">\n",
       "  <thead>\n",
       "    <tr style=\"text-align: right;\">\n",
       "      <th></th>\n",
       "      <th>dummy_col01</th>\n",
       "      <th>dummy_col02</th>\n",
       "    </tr>\n",
       "  </thead>\n",
       "  <tbody>\n",
       "    <tr>\n",
       "      <th>0</th>\n",
       "      <td>1</td>\n",
       "      <td>dummy_col02_val0000000001</td>\n",
       "    </tr>\n",
       "    <tr>\n",
       "      <th>1</th>\n",
       "      <td>1</td>\n",
       "      <td>dummy_col02_val0000000002</td>\n",
       "    </tr>\n",
       "    <tr>\n",
       "      <th>2</th>\n",
       "      <td>2</td>\n",
       "      <td>dummy_col02_val0000000003</td>\n",
       "    </tr>\n",
       "    <tr>\n",
       "      <th>3</th>\n",
       "      <td>2</td>\n",
       "      <td>dummy_col02_val0000000002</td>\n",
       "    </tr>\n",
       "  </tbody>\n",
       "</table>\n",
       "</div>"
      ],
      "text/plain": [
       "   dummy_col01                dummy_col02\n",
       "0            1  dummy_col02_val0000000001\n",
       "1            1  dummy_col02_val0000000002\n",
       "2            2  dummy_col02_val0000000003\n",
       "3            2  dummy_col02_val0000000002"
      ]
     },
     "execution_count": 15,
     "metadata": {},
     "output_type": "execute_result"
    }
   ],
   "source": [
    "%%sql_display\n",
    "\n",
    "SELECT * FROM tester ORDER BY dummy_col01"
   ]
  },
  {
   "cell_type": "markdown",
   "id": "51e0a3e9-3a42-475f-bbc7-d64daf8d3e89",
   "metadata": {},
   "source": [
    "Delete row with a wildcard match:"
   ]
  },
  {
   "cell_type": "code",
   "execution_count": 16,
   "id": "1b422f94-ccd1-429c-b42c-45ea6cd27dde",
   "metadata": {},
   "outputs": [
    {
     "data": {
      "text/html": [
       "<table border='1'>\n",
       "<tr><th>num_affected_rows</th></tr>\n",
       "<tr><td>1</td></tr>\n",
       "</table>\n"
      ],
      "text/plain": [
       "+-----------------+\n",
       "|num_affected_rows|\n",
       "+-----------------+\n",
       "|                1|\n",
       "+-----------------+"
      ]
     },
     "execution_count": 16,
     "metadata": {},
     "output_type": "execute_result"
    }
   ],
   "source": [
    "%%sql\n",
    "\n",
    "DELETE FROM tester WHERE dummy_col02 LIKE '%val0000000001'"
   ]
  },
  {
   "cell_type": "code",
   "execution_count": 17,
   "id": "63fe8765-8506-4df3-b243-a7d765a98c14",
   "metadata": {},
   "outputs": [
    {
     "data": {
      "text/html": [
       "<div>\n",
       "<style scoped>\n",
       "    .dataframe tbody tr th:only-of-type {\n",
       "        vertical-align: middle;\n",
       "    }\n",
       "\n",
       "    .dataframe tbody tr th {\n",
       "        vertical-align: top;\n",
       "    }\n",
       "\n",
       "    .dataframe thead th {\n",
       "        text-align: right;\n",
       "    }\n",
       "</style>\n",
       "<table border=\"1\" class=\"dataframe\">\n",
       "  <thead>\n",
       "    <tr style=\"text-align: right;\">\n",
       "      <th></th>\n",
       "      <th>dummy_col01</th>\n",
       "      <th>dummy_col02</th>\n",
       "    </tr>\n",
       "  </thead>\n",
       "  <tbody>\n",
       "    <tr>\n",
       "      <th>0</th>\n",
       "      <td>1</td>\n",
       "      <td>dummy_col02_val0000000002</td>\n",
       "    </tr>\n",
       "    <tr>\n",
       "      <th>1</th>\n",
       "      <td>2</td>\n",
       "      <td>dummy_col02_val0000000003</td>\n",
       "    </tr>\n",
       "    <tr>\n",
       "      <th>2</th>\n",
       "      <td>2</td>\n",
       "      <td>dummy_col02_val0000000002</td>\n",
       "    </tr>\n",
       "  </tbody>\n",
       "</table>\n",
       "</div>"
      ],
      "text/plain": [
       "   dummy_col01                dummy_col02\n",
       "0            1  dummy_col02_val0000000002\n",
       "1            2  dummy_col02_val0000000003\n",
       "2            2  dummy_col02_val0000000002"
      ]
     },
     "execution_count": 17,
     "metadata": {},
     "output_type": "execute_result"
    }
   ],
   "source": [
    "%%sql_display\n",
    "\n",
    "SELECT * FROM tester ORDER BY dummy_col01"
   ]
  },
  {
   "cell_type": "markdown",
   "id": "552373a7-fef4-4ffe-9bc9-5a8bb0de49f8",
   "metadata": {},
   "source": [
    "## `%sql` line magic interactions\n",
    "\n",
    "Returns a PySpark DataFrame for lazy evaluation of the SQL that can be used in other Python expressions. For example:"
   ]
  },
  {
   "cell_type": "code",
   "execution_count": 18,
   "id": "d1d17e7e-b743-4cee-ab75-2787a4552555",
   "metadata": {},
   "outputs": [
    {
     "name": "stdout",
     "output_type": "stream",
     "text": [
      "+-----------+--------------------+\n",
      "|dummy_col01|         dummy_col02|\n",
      "+-----------+--------------------+\n",
      "|          2|dummy_col02_val00...|\n",
      "|          1|dummy_col02_val00...|\n",
      "|          2|dummy_col02_val00...|\n",
      "+-----------+--------------------+\n",
      "\n"
     ]
    }
   ],
   "source": [
    "from pyspark.sql import DataFrame\n",
    "\n",
    "df: DataFrame = %sql SELECT * FROM tester\n",
    "df.show()"
   ]
  },
  {
   "cell_type": "code",
   "execution_count": null,
   "id": "2184daf2-574f-4dea-86a6-23b63d3fe595",
   "metadata": {},
   "outputs": [],
   "source": []
  }
 ],
 "metadata": {
  "kernelspec": {
   "display_name": "Python 3 (ipykernel)",
   "language": "python",
   "name": "python3"
  },
  "language_info": {
   "codemirror_mode": {
    "name": "ipython",
    "version": 3
   },
   "file_extension": ".py",
   "mimetype": "text/x-python",
   "name": "python",
   "nbconvert_exporter": "python",
   "pygments_lexer": "ipython3",
   "version": "3.11.8"
  }
 },
 "nbformat": 4,
 "nbformat_minor": 5
}
